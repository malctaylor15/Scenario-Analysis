{
 "cells": [
  {
   "cell_type": "code",
   "execution_count": 110,
   "metadata": {
    "collapsed": true
   },
   "outputs": [],
   "source": [
    "import numpy as np \n",
    "import pandas as pd\n",
    "from scipy.stats import norm\n",
    "import matplotlib.pyplot as plt\n",
    "%matplotlib inline"
   ]
  },
  {
   "cell_type": "code",
   "execution_count": 111,
   "metadata": {
    "collapsed": false
   },
   "outputs": [
    {
     "data": {
      "text/html": [
       "<div>\n",
       "<table border=\"1\" class=\"dataframe\">\n",
       "  <thead>\n",
       "    <tr style=\"text-align: right;\">\n",
       "      <th></th>\n",
       "      <th>Date</th>\n",
       "      <th>Adj Close</th>\n",
       "      <th>Log Price</th>\n",
       "      <th>Log Return</th>\n",
       "    </tr>\n",
       "  </thead>\n",
       "  <tbody>\n",
       "    <tr>\n",
       "      <th>0</th>\n",
       "      <td>6/10/1960</td>\n",
       "      <td>57.970001</td>\n",
       "      <td>1.763203</td>\n",
       "      <td>-0.000225</td>\n",
       "    </tr>\n",
       "    <tr>\n",
       "      <th>1</th>\n",
       "      <td>6/13/1960</td>\n",
       "      <td>57.990002</td>\n",
       "      <td>1.763353</td>\n",
       "      <td>0.000150</td>\n",
       "    </tr>\n",
       "    <tr>\n",
       "      <th>2</th>\n",
       "      <td>6/14/1960</td>\n",
       "      <td>57.910000</td>\n",
       "      <td>1.762754</td>\n",
       "      <td>-0.000600</td>\n",
       "    </tr>\n",
       "    <tr>\n",
       "      <th>3</th>\n",
       "      <td>6/15/1960</td>\n",
       "      <td>57.570000</td>\n",
       "      <td>1.760196</td>\n",
       "      <td>-0.002557</td>\n",
       "    </tr>\n",
       "    <tr>\n",
       "      <th>4</th>\n",
       "      <td>6/16/1960</td>\n",
       "      <td>57.500000</td>\n",
       "      <td>1.759668</td>\n",
       "      <td>-0.000528</td>\n",
       "    </tr>\n",
       "  </tbody>\n",
       "</table>\n",
       "</div>"
      ],
      "text/plain": [
       "        Date  Adj Close  Log Price  Log Return\n",
       "0  6/10/1960  57.970001   1.763203   -0.000225\n",
       "1  6/13/1960  57.990002   1.763353    0.000150\n",
       "2  6/14/1960  57.910000   1.762754   -0.000600\n",
       "3  6/15/1960  57.570000   1.760196   -0.002557\n",
       "4  6/16/1960  57.500000   1.759668   -0.000528"
      ]
     },
     "execution_count": 111,
     "metadata": {},
     "output_type": "execute_result"
    }
   ],
   "source": [
    "data = pd.read_csv(\"SP_500_Log_Returns_19600610_19871016.csv\")\n",
    "data.head()"
   ]
  },
  {
   "cell_type": "code",
   "execution_count": 112,
   "metadata": {
    "collapsed": false
   },
   "outputs": [
    {
     "data": {
      "text/html": [
       "<div>\n",
       "<table border=\"1\" class=\"dataframe\">\n",
       "  <thead>\n",
       "    <tr style=\"text-align: right;\">\n",
       "      <th></th>\n",
       "      <th>Adj Close</th>\n",
       "      <th>Log Price</th>\n",
       "      <th>Log Return</th>\n",
       "    </tr>\n",
       "  </thead>\n",
       "  <tbody>\n",
       "    <tr>\n",
       "      <th>count</th>\n",
       "      <td>6875.000000</td>\n",
       "      <td>6875.000000</td>\n",
       "      <td>6875.000000</td>\n",
       "    </tr>\n",
       "    <tr>\n",
       "      <th>mean</th>\n",
       "      <td>112.950846</td>\n",
       "      <td>2.020570</td>\n",
       "      <td>0.000100</td>\n",
       "    </tr>\n",
       "    <tr>\n",
       "      <th>std</th>\n",
       "      <td>50.516773</td>\n",
       "      <td>0.157946</td>\n",
       "      <td>0.003522</td>\n",
       "    </tr>\n",
       "    <tr>\n",
       "      <th>min</th>\n",
       "      <td>52.200001</td>\n",
       "      <td>1.717671</td>\n",
       "      <td>-0.030005</td>\n",
       "    </tr>\n",
       "    <tr>\n",
       "      <th>25%</th>\n",
       "      <td>85.865002</td>\n",
       "      <td>1.933816</td>\n",
       "      <td>-0.001755</td>\n",
       "    </tr>\n",
       "    <tr>\n",
       "      <th>50%</th>\n",
       "      <td>98.860001</td>\n",
       "      <td>1.995021</td>\n",
       "      <td>0.000135</td>\n",
       "    </tr>\n",
       "    <tr>\n",
       "      <th>75%</th>\n",
       "      <td>117.324997</td>\n",
       "      <td>2.069391</td>\n",
       "      <td>0.001962</td>\n",
       "    </tr>\n",
       "    <tr>\n",
       "      <th>max</th>\n",
       "      <td>336.769989</td>\n",
       "      <td>2.527333</td>\n",
       "      <td>0.021282</td>\n",
       "    </tr>\n",
       "  </tbody>\n",
       "</table>\n",
       "</div>"
      ],
      "text/plain": [
       "         Adj Close    Log Price   Log Return\n",
       "count  6875.000000  6875.000000  6875.000000\n",
       "mean    112.950846     2.020570     0.000100\n",
       "std      50.516773     0.157946     0.003522\n",
       "min      52.200001     1.717671    -0.030005\n",
       "25%      85.865002     1.933816    -0.001755\n",
       "50%      98.860001     1.995021     0.000135\n",
       "75%     117.324997     2.069391     0.001962\n",
       "max     336.769989     2.527333     0.021282"
      ]
     },
     "execution_count": 112,
     "metadata": {},
     "output_type": "execute_result"
    }
   ],
   "source": [
    "data.describe()"
   ]
  },
  {
   "cell_type": "code",
   "execution_count": 113,
   "metadata": {
    "collapsed": false
   },
   "outputs": [
    {
     "data": {
      "text/plain": [
       "<matplotlib.axes._subplots.AxesSubplot at 0x172d091c6a0>"
      ]
     },
     "execution_count": 113,
     "metadata": {},
     "output_type": "execute_result"
    },
    {
     "data": {
      "image/png": "[encoded data removed]",
      "text/plain": [
       "<matplotlib.figure.Figure at 0x172d0310cf8>"
      ]
     },
     "metadata": {},
     "output_type": "display_data"
    }
   ],
   "source": [
    "data[\"Log Return\"].plot()"
   ]
  },
  {
   "cell_type": "code",
   "execution_count": 114,
   "metadata": {
    "collapsed": false
   },
   "outputs": [
    {
     "data": {
      "text/plain": [
       "<matplotlib.axes._subplots.AxesSubplot at 0x172d0b120f0>"
      ]
     },
     "execution_count": 114,
     "metadata": {},
     "output_type": "execute_result"
    },
    {
     "data": {
      "image/png": "[encoded data removed]",
      "text/plain": [
       "<matplotlib.figure.Figure at 0x172d0a4df28>"
      ]
     },
     "metadata": {},
     "output_type": "display_data"
    }
   ],
   "source": [
    "data[\"Log Return\"].cumsum().plot()"
   ]
  },
  {
   "cell_type": "code",
   "execution_count": 115,
   "metadata": {
    "collapsed": true
   },
   "outputs": [],
   "source": [
    "def ValueAtRisk (data_column, alpha = 0.95):\n",
    "    \"This function computes the value at risk for a dataframe\"\n",
    "    \"It should take in a Series of data \"\n",
    "    sorted_df = data_column.sort_values(ascending = True)\n",
    "    VaR = sorted_df.quantile(q= alpha, interpolation = 'higher')\n",
    "    return VaR"
   ]
  },
  {
   "cell_type": "code",
   "execution_count": 116,
   "metadata": {
    "collapsed": true
   },
   "outputs": [],
   "source": [
    "data[\"Log Return\"] =-1000000*(np.exp(data[\"Log Return\"])-1)\n"
   ]
  },
  {
   "cell_type": "code",
   "execution_count": 117,
   "metadata": {
    "collapsed": false
   },
   "outputs": [
    {
     "data": {
      "text/plain": [
       "5636.9951825712142"
      ]
     },
     "execution_count": 117,
     "metadata": {},
     "output_type": "execute_result"
    }
   ],
   "source": [
    "Var_Reg = ValueAtRisk(data[\"Log Return\"])\n",
    "Var_Reg"
   ]
  },
  {
   "cell_type": "code",
   "execution_count": 118,
   "metadata": {
    "collapsed": true
   },
   "outputs": [],
   "source": [
    "def EWMA_mu(X, numb_initial_obs,lam = 0.97):\n",
    "    \"\"\"\n",
    "    This function takes in a Series of returns - X \n",
    "    and generates the Exponentially Weighted Moving Average of the series. \n",
    "    It uses the initial M observations as the larger weighted term (multiplied by mu)\n",
    "    \"\"\"\n",
    "    numb_mus = len(X)- numb_initial_obs\n",
    "    mu = pd.Series(np.repeat(0.0,(numb_mus)))\n",
    "    mu[0] = X[0:numb_initial_obs].mean()\n",
    "    for s_delta in range(1,numb_mus):\n",
    "        s = s_delta - 1 \n",
    "        mu[s_delta] = lam * mu[s] + (1-lam)*X[(numb_initial_obs+s)]\n",
    "        \n",
    "    return mu"
   ]
  },
  {
   "cell_type": "code",
   "execution_count": 119,
   "metadata": {
    "collapsed": false
   },
   "outputs": [],
   "source": [
    "def EWMA_sig(X, numb_initial_obs,lam = 0.97):\n",
    "    \"\"\"\n",
    "    This function takes in a Series of returns - X \n",
    "    and generates the Exponentially Weighted Moving Average of the series. \n",
    "    It uses the initial M observations as the larger weighted term (multiplied by mu)\n",
    "    \"\"\"\n",
    "    numb_sigs = len(X)- numb_initial_obs\n",
    "    sig = pd.Series(np.repeat(0.0,(numb_sigs)))\n",
    "    mu[0] = X[0:numb_initial_obs].mean()\n",
    "    for s_delta in range(1,numb_sigs):\n",
    "        s = s_delta - 1 \n",
    "        new_sig = np.power((sig[s]-X[(numb_initial_obs+s)]) , 2)\n",
    "        sig[s_delta] = lam * sig[s] + (1-lam)*new_sig  \n",
    "    return sig"
   ]
  },
  {
   "cell_type": "code",
   "execution_count": 120,
   "metadata": {
    "collapsed": false
   },
   "outputs": [],
   "source": [
    "mu = EWMA_mu(data[\"Log Return\"],500)\n",
    "sig = EWMA_sig(data[\"Log Return\"],500)"
   ]
  },
  {
   "cell_type": "code",
   "execution_count": 121,
   "metadata": {
    "collapsed": false
   },
   "outputs": [
    {
     "data": {
      "text/plain": [
       "inf"
      ]
     },
     "execution_count": 121,
     "metadata": {},
     "output_type": "execute_result"
    }
   ],
   "source": [
    "last_element = len(mu)-1\n",
    "alpha = 0.95\n",
    "\n",
    "VaR = mu[(last_element)] + np.sqrt(sig[last_element])*norm.ppf(alpha)\n",
    "VaR"
   ]
  },
  {
   "cell_type": "code",
   "execution_count": 122,
   "metadata": {
    "collapsed": false
   },
   "outputs": [],
   "source": [
    "numb_days = 125\n",
    "numb_block = 55\n",
    "max_block_value = pd.Series(np.repeat(0.0,(numb_block-1)))\n",
    "for block in range((numb_block-1)):\n",
    "    start_index = block*numb_days\n",
    "    end_index = (block+1)*numb_days\n",
    "    max_block_value[block] = data[\"Log Return\"][start_index:end_index].max()"
   ]
  },
  {
   "cell_type": "code",
   "execution_count": 123,
   "metadata": {
    "collapsed": false
   },
   "outputs": [
    {
     "name": "stdout",
     "output_type": "stream",
     "text": [
      "count       54.000000\n",
      "mean      9535.152943\n",
      "std       4521.673110\n",
      "min       3411.461696\n",
      "25%       6642.077980\n",
      "50%       8476.328643\n",
      "75%      11779.782433\n",
      "max      29559.282761\n",
      "dtype: float64\n"
     ]
    },
    {
     "data": {
      "text/plain": [
       "<matplotlib.lines.Line2D at 0x172d09c4208>"
      ]
     },
     "execution_count": 123,
     "metadata": {},
     "output_type": "execute_result"
    },
    {
     "data": {
      "image/png": "[encoded data removed]",
      "text/plain": [
       "<matplotlib.figure.Figure at 0x172d09bff28>"
      ]
     },
     "metadata": {},
     "output_type": "display_data"
    }
   ],
   "source": [
    "print(max_block_value.describe())\n",
    "max_block_value.plot()\n",
    "plt.axhline(y = max_block_value.mean(), color = \"r\")"
   ]
  },
  {
   "cell_type": "code",
   "execution_count": 124,
   "metadata": {
    "collapsed": false
   },
   "outputs": [
    {
     "data": {
      "text/plain": [
       "(-5.1138384399677363, 3419.4476778255921, 40.845325333311877)"
      ]
     },
     "execution_count": 124,
     "metadata": {},
     "output_type": "execute_result"
    }
   ],
   "source": [
    "from scipy.stats import genextreme\n",
    "GEV_params = genextreme.fit(max_block_value )\n",
    "GEV_params"
   ]
  },
  {
   "cell_type": "code",
   "execution_count": 125,
   "metadata": {
    "collapsed": false
   },
   "outputs": [
    {
     "data": {
      "text/plain": [
       "(array([  9.47177689e-24,   0.00000000e+00,   0.00000000e+00,\n",
       "          0.00000000e+00,   0.00000000e+00,   0.00000000e+00,\n",
       "          0.00000000e+00,   0.00000000e+00,   0.00000000e+00,\n",
       "          0.00000000e+00,   0.00000000e+00,   0.00000000e+00,\n",
       "          0.00000000e+00,   0.00000000e+00,   0.00000000e+00,\n",
       "          0.00000000e+00,   0.00000000e+00,   0.00000000e+00,\n",
       "          0.00000000e+00,   0.00000000e+00,   0.00000000e+00,\n",
       "          0.00000000e+00,   0.00000000e+00,   0.00000000e+00,\n",
       "          0.00000000e+00,   0.00000000e+00,   0.00000000e+00,\n",
       "          0.00000000e+00,   0.00000000e+00,   0.00000000e+00,\n",
       "          0.00000000e+00,   0.00000000e+00,   0.00000000e+00,\n",
       "          0.00000000e+00,   0.00000000e+00,   0.00000000e+00,\n",
       "          0.00000000e+00,   0.00000000e+00,   0.00000000e+00,\n",
       "          9.47272416e-28]),\n",
       " array([  3.41146050e+03,   1.05566253e+23,   2.11132507e+23,\n",
       "          3.16698760e+23,   4.22265014e+23,   5.27831267e+23,\n",
       "          6.33397521e+23,   7.38963774e+23,   8.44530028e+23,\n",
       "          9.50096281e+23,   1.05566253e+24,   1.16122879e+24,\n",
       "          1.26679504e+24,   1.37236130e+24,   1.47792755e+24,\n",
       "          1.58349380e+24,   1.68906006e+24,   1.79462631e+24,\n",
       "          1.90019256e+24,   2.00575882e+24,   2.11132507e+24,\n",
       "          2.21689132e+24,   2.32245758e+24,   2.42802383e+24,\n",
       "          2.53359008e+24,   2.63915634e+24,   2.74472259e+24,\n",
       "          2.85028884e+24,   2.95585510e+24,   3.06142135e+24,\n",
       "          3.16698760e+24,   3.27255386e+24,   3.37812011e+24,\n",
       "          3.48368637e+24,   3.58925262e+24,   3.69481887e+24,\n",
       "          3.80038513e+24,   3.90595138e+24,   4.01151763e+24,\n",
       "          4.11708389e+24,   4.22265014e+24]),\n",
       " <a list of 40 Patch objects>)"
      ]
     },
     "execution_count": 125,
     "metadata": {},
     "output_type": "execute_result"
    },
    {
     "data": {
      "image/png": "[encoded data removed]",
      "text/plain": [
       "<matplotlib.figure.Figure at 0x172d0a74940>"
      ]
     },
     "metadata": {},
     "output_type": "display_data"
    }
   ],
   "source": [
    "rv = genextreme.rvs(c = GEV_params[0], loc = GEV_params[1],  scale = GEV_params[2], size = 10000)\n",
    "fig, ax = plt.subplots(1,1)\n",
    "ax.hist(rv, bins=40 ,normed= True, alpha = 0.3)"
   ]
  },
  {
   "cell_type": "code",
   "execution_count": 126,
   "metadata": {
    "collapsed": false
   },
   "outputs": [
    {
     "data": {
      "text/plain": [
       "A    2.528427e+07\n",
       "dtype: float64"
      ]
     },
     "execution_count": 126,
     "metadata": {},
     "output_type": "execute_result"
    }
   ],
   "source": [
    "rv1 = pd.DataFrame({'A':rv})\n",
    "rv1.quantile(0.95, interpolation='higher')"
   ]
  },
  {
   "cell_type": "markdown",
   "metadata": {},
   "source": [
    "We can also solve for the VaR analytically - page 23 of the notes \n",
    "\n",
    "$VaR_{\\alpha} = \\mu - \\sigma / \\xi (1-(-n log(\\alpha))^{-\\xi}) ; \\xi >0$ \n",
    "\n",
    "$VaR_{\\alpha} = \\mu - \\sigma / \\xi (1-(-n log(\\alpha))); \\xi = 0$ \n"
   ]
  },
  {
   "cell_type": "code",
   "execution_count": 127,
   "metadata": {
    "collapsed": false
   },
   "outputs": [
    {
     "data": {
      "text/plain": [
       "-5.1138384399677363"
      ]
     },
     "execution_count": 127,
     "metadata": {},
     "output_type": "execute_result"
    }
   ],
   "source": [
    "GEV_params[0]"
   ]
  },
  {
   "cell_type": "code",
   "execution_count": 128,
   "metadata": {
    "collapsed": false
   },
   "outputs": [
    {
     "data": {
      "text/plain": [
       "-103505.78938507735"
      ]
     },
     "execution_count": 128,
     "metadata": {},
     "output_type": "execute_result"
    }
   ],
   "source": [
    "GEV_params[1] - (GEV_params[2]/GEV_params[0])*(1- (np.power(-numb_days*np.log(0.95),-GEV_params[0] )))"
   ]
  },
  {
   "cell_type": "code",
   "execution_count": 129,
   "metadata": {
    "collapsed": false
   },
   "outputs": [
    {
     "data": {
      "text/plain": [
       "3640.4887645768858"
      ]
     },
     "execution_count": 129,
     "metadata": {},
     "output_type": "execute_result"
    }
   ],
   "source": [
    "GEV_params[1] - (GEV_params[2])*(1- (-numb_days*np.log(0.95)))"
   ]
  },
  {
   "cell_type": "markdown",
   "metadata": {},
   "source": [
    "Move on to Generalized Pareto "
   ]
  },
  {
   "cell_type": "code",
   "execution_count": 130,
   "metadata": {
    "collapsed": true
   },
   "outputs": [],
   "source": [
    "from scipy.stats import genpareto"
   ]
  },
  {
   "cell_type": "code",
   "execution_count": 131,
   "metadata": {
    "collapsed": false
   },
   "outputs": [
    {
     "data": {
      "text/plain": [
       "(0.07602116124573291, 5642.2205462844549, 2007.5409499979769)"
      ]
     },
     "execution_count": 131,
     "metadata": {},
     "output_type": "execute_result"
    }
   ],
   "source": [
    "GP_data1 = data[data[\"Log Return\"]>Var_Reg][\"Log Return\"]\n",
    "GP_params = genpareto.fit(GP_data1)\n",
    "GP_params"
   ]
  },
  {
   "cell_type": "markdown",
   "metadata": {},
   "source": [
    "There is an analytical result for the VaR for the GP distribution as well \n",
    "from page 35 of the notes... \n",
    "\n",
    "\n",
    "$VaR_{\\alpha} = u + \\beta / \\xi * (( (1-F(u))/(1-\\alpha))^{\\xi} -1)$\n",
    "\n",
    "$u = Var_{0.95}$\n",
    "\n",
    "$F(u) = ?$ - distribution of X = pareto?"
   ]
  },
  {
   "cell_type": "code",
   "execution_count": 132,
   "metadata": {
    "collapsed": false,
    "scrolled": true
   },
   "outputs": [
    {
     "data": {
      "text/plain": [
       "A    11845.295434\n",
       "dtype: float64"
      ]
     },
     "execution_count": 132,
     "metadata": {},
     "output_type": "execute_result"
    },
    {
     "data": {
      "image/png": "[encoded data removed]",
      "text/plain": [
       "<matplotlib.figure.Figure at 0x172d0c82710>"
      ]
     },
     "metadata": {},
     "output_type": "display_data"
    }
   ],
   "source": [
    "Scot_test = genpareto.rvs(c=0.2622, loc = 0, scale =  2549, size = 10000)\n",
    "fig, ax = plt.subplots(1,1)\n",
    "ax.hist(Scot_test, bins=40 ,normed= True, alpha = 0.3)\n",
    "\n",
    "Scot_test_df = pd.DataFrame({'A':Scot_test})\n",
    "Scot_test_df.quantile(0.95, interpolation='higher')"
   ]
  },
  {
   "cell_type": "code",
   "execution_count": 133,
   "metadata": {
    "collapsed": false
   },
   "outputs": [],
   "source": [
    "GP_data1.to_csv(\"GP_data_full.csv\")\n",
    "max_block_value.to_csv(\"max_block_value_full.csv\")"
   ]
  },
  {
   "cell_type": "code",
   "execution_count": null,
   "metadata": {
    "collapsed": true
   },
   "outputs": [],
   "source": []
  },
  {
   "cell_type": "code",
   "execution_count": null,
   "metadata": {
    "collapsed": true
   },
   "outputs": [],
   "source": []
  },
  {
   "cell_type": "code",
   "execution_count": null,
   "metadata": {
    "collapsed": true
   },
   "outputs": [],
   "source": []
  }
 ],
 "metadata": {
  "anaconda-cloud": {},
  "kernelspec": {
   "display_name": "Python [Root]",
   "language": "python",
   "name": "Python [Root]"
  },
  "language_info": {
   "codemirror_mode": {
    "name": "ipython",
    "version": 3
   },
   "file_extension": ".py",
   "mimetype": "text/x-python",
   "name": "python",
   "nbconvert_exporter": "python",
   "pygments_lexer": "ipython3",
   "version": "3.5.2"
  }
 },
 "nbformat": 4,
 "nbformat_minor": 0
}
