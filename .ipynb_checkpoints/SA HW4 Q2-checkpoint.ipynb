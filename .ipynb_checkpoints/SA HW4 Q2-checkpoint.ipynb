{
 "cells": [
  {
   "cell_type": "code",
   "execution_count": 148,
   "metadata": {
    "collapsed": true
   },
   "outputs": [],
   "source": [
    "import numpy as np \n",
    "import pandas as pd\n",
    "from scipy.stats import norm"
   ]
  },
  {
   "cell_type": "code",
   "execution_count": 6,
   "metadata": {
    "collapsed": false
   },
   "outputs": [
    {
     "data": {
      "text/html": [
       "<div>\n",
       "<table border=\"1\" class=\"dataframe\">\n",
       "  <thead>\n",
       "    <tr style=\"text-align: right;\">\n",
       "      <th></th>\n",
       "      <th>Date</th>\n",
       "      <th>MSFT_Price</th>\n",
       "      <th>AAPL_Price</th>\n",
       "      <th>MSFT_Log_Price</th>\n",
       "      <th>AAPL_Log_Price</th>\n",
       "      <th>MSFT_Log_Return</th>\n",
       "      <th>AAPL_Log_Return</th>\n",
       "    </tr>\n",
       "  </thead>\n",
       "  <tbody>\n",
       "    <tr>\n",
       "      <th>0</th>\n",
       "      <td>31-Aug-11</td>\n",
       "      <td>26.60</td>\n",
       "      <td>54.98</td>\n",
       "      <td>3.280911</td>\n",
       "      <td>4.006969</td>\n",
       "      <td>NaN</td>\n",
       "      <td>NaN</td>\n",
       "    </tr>\n",
       "    <tr>\n",
       "      <th>1</th>\n",
       "      <td>1-Sep-11</td>\n",
       "      <td>26.21</td>\n",
       "      <td>54.43</td>\n",
       "      <td>3.266141</td>\n",
       "      <td>3.996915</td>\n",
       "      <td>-0.014770</td>\n",
       "      <td>-0.010054</td>\n",
       "    </tr>\n",
       "    <tr>\n",
       "      <th>2</th>\n",
       "      <td>2-Sep-11</td>\n",
       "      <td>25.80</td>\n",
       "      <td>53.44</td>\n",
       "      <td>3.250374</td>\n",
       "      <td>3.978560</td>\n",
       "      <td>-0.015767</td>\n",
       "      <td>-0.018356</td>\n",
       "    </tr>\n",
       "    <tr>\n",
       "      <th>3</th>\n",
       "      <td>6-Sep-11</td>\n",
       "      <td>25.51</td>\n",
       "      <td>54.25</td>\n",
       "      <td>3.239071</td>\n",
       "      <td>3.993603</td>\n",
       "      <td>-0.011304</td>\n",
       "      <td>0.015043</td>\n",
       "    </tr>\n",
       "    <tr>\n",
       "      <th>4</th>\n",
       "      <td>7-Sep-11</td>\n",
       "      <td>26.00</td>\n",
       "      <td>54.85</td>\n",
       "      <td>3.258097</td>\n",
       "      <td>4.004602</td>\n",
       "      <td>0.019026</td>\n",
       "      <td>0.010999</td>\n",
       "    </tr>\n",
       "  </tbody>\n",
       "</table>\n",
       "</div>"
      ],
      "text/plain": [
       "        Date  MSFT_Price  AAPL_Price  MSFT_Log_Price  AAPL_Log_Price  \\\n",
       "0  31-Aug-11       26.60       54.98        3.280911        4.006969   \n",
       "1   1-Sep-11       26.21       54.43        3.266141        3.996915   \n",
       "2   2-Sep-11       25.80       53.44        3.250374        3.978560   \n",
       "3   6-Sep-11       25.51       54.25        3.239071        3.993603   \n",
       "4   7-Sep-11       26.00       54.85        3.258097        4.004602   \n",
       "\n",
       "   MSFT_Log_Return  AAPL_Log_Return  \n",
       "0              NaN              NaN  \n",
       "1        -0.014770        -0.010054  \n",
       "2        -0.015767        -0.018356  \n",
       "3        -0.011304         0.015043  \n",
       "4         0.019026         0.010999  "
      ]
     },
     "execution_count": 6,
     "metadata": {},
     "output_type": "execute_result"
    }
   ],
   "source": [
    "data = pd.read_csv(\"MSFT_AAPL_Log_Returns_20110831_20160901.csv\")\n",
    "data.head()"
   ]
  },
  {
   "cell_type": "code",
   "execution_count": 8,
   "metadata": {
    "collapsed": false
   },
   "outputs": [
    {
     "data": {
      "text/html": [
       "<div>\n",
       "<table border=\"1\" class=\"dataframe\">\n",
       "  <thead>\n",
       "    <tr style=\"text-align: right;\">\n",
       "      <th></th>\n",
       "      <th>Date</th>\n",
       "      <th>MSFT_Price</th>\n",
       "      <th>AAPL_Price</th>\n",
       "      <th>MSFT_Log_Price</th>\n",
       "      <th>AAPL_Log_Price</th>\n",
       "      <th>MSFT_Log_Return</th>\n",
       "      <th>AAPL_Log_Return</th>\n",
       "    </tr>\n",
       "  </thead>\n",
       "  <tbody>\n",
       "    <tr>\n",
       "      <th>1</th>\n",
       "      <td>1-Sep-11</td>\n",
       "      <td>26.21</td>\n",
       "      <td>54.43</td>\n",
       "      <td>3.266141</td>\n",
       "      <td>3.996915</td>\n",
       "      <td>-0.014770</td>\n",
       "      <td>-0.010054</td>\n",
       "    </tr>\n",
       "    <tr>\n",
       "      <th>2</th>\n",
       "      <td>2-Sep-11</td>\n",
       "      <td>25.80</td>\n",
       "      <td>53.44</td>\n",
       "      <td>3.250374</td>\n",
       "      <td>3.978560</td>\n",
       "      <td>-0.015767</td>\n",
       "      <td>-0.018356</td>\n",
       "    </tr>\n",
       "    <tr>\n",
       "      <th>3</th>\n",
       "      <td>6-Sep-11</td>\n",
       "      <td>25.51</td>\n",
       "      <td>54.25</td>\n",
       "      <td>3.239071</td>\n",
       "      <td>3.993603</td>\n",
       "      <td>-0.011304</td>\n",
       "      <td>0.015043</td>\n",
       "    </tr>\n",
       "    <tr>\n",
       "      <th>4</th>\n",
       "      <td>7-Sep-11</td>\n",
       "      <td>26.00</td>\n",
       "      <td>54.85</td>\n",
       "      <td>3.258097</td>\n",
       "      <td>4.004602</td>\n",
       "      <td>0.019026</td>\n",
       "      <td>0.010999</td>\n",
       "    </tr>\n",
       "    <tr>\n",
       "      <th>5</th>\n",
       "      <td>8-Sep-11</td>\n",
       "      <td>26.22</td>\n",
       "      <td>54.88</td>\n",
       "      <td>3.266522</td>\n",
       "      <td>4.005149</td>\n",
       "      <td>0.008426</td>\n",
       "      <td>0.000547</td>\n",
       "    </tr>\n",
       "  </tbody>\n",
       "</table>\n",
       "</div>"
      ],
      "text/plain": [
       "       Date  MSFT_Price  AAPL_Price  MSFT_Log_Price  AAPL_Log_Price  \\\n",
       "1  1-Sep-11       26.21       54.43        3.266141        3.996915   \n",
       "2  2-Sep-11       25.80       53.44        3.250374        3.978560   \n",
       "3  6-Sep-11       25.51       54.25        3.239071        3.993603   \n",
       "4  7-Sep-11       26.00       54.85        3.258097        4.004602   \n",
       "5  8-Sep-11       26.22       54.88        3.266522        4.005149   \n",
       "\n",
       "   MSFT_Log_Return  AAPL_Log_Return  \n",
       "1        -0.014770        -0.010054  \n",
       "2        -0.015767        -0.018356  \n",
       "3        -0.011304         0.015043  \n",
       "4         0.019026         0.010999  \n",
       "5         0.008426         0.000547  "
      ]
     },
     "execution_count": 8,
     "metadata": {},
     "output_type": "execute_result"
    }
   ],
   "source": [
    "data = data.dropna(axis=0)\n",
    "data.head()"
   ]
  },
  {
   "cell_type": "markdown",
   "metadata": {},
   "source": [
    "The following function will estimate the EWMA of the returns \n",
    "\n",
    "$\\mu_{s+\\Delta} = \\lambda\\mu_s + (1-\\lambda)X_s$"
   ]
  },
  {
   "cell_type": "code",
   "execution_count": 38,
   "metadata": {
    "collapsed": true
   },
   "outputs": [],
   "source": [
    "def EWMA_X(X, numb_initial_obs,lam = 0.97):\n",
    "    \"\"\"\n",
    "    This function takes in a Series of returns - X \n",
    "    and generates the Exponentially Weighted Moving Average of the series. \n",
    "    It uses the initial M observations as the larger weighted term (multiplied by mu)\n",
    "    \"\"\"\n",
    "    numb_mus = len(X)- numb_initial_obs\n",
    "    mu = pd.Series(np.repeat(0.0,(numb_mus)))\n",
    "    mu[0] = X[0:numb_initial_obs].mean()\n",
    "    for s_delta in range(1,numb_mus):\n",
    "        s = s_delta - 1 \n",
    "        mu[s_delta] = lam * mu[s] + (1-lam)*X[(numb_initial_obs+s)]\n",
    "        \n",
    "    return mu"
   ]
  },
  {
   "cell_type": "code",
   "execution_count": 139,
   "metadata": {
    "collapsed": false
   },
   "outputs": [],
   "source": [
    "MSFT_mu = EWMA_X(data[\"MSFT_Log_Return\"], 500)\n",
    "AAPL_mu = EWMA_X(data[\"AAPL_Log_Return\"], 500)\n",
    "mu = pd.DataFrame({\"MSFT\" : MSFT_mu, \n",
    "                    \"AAPL\" : AAPL_mu})"
   ]
  },
  {
   "cell_type": "markdown",
   "metadata": {},
   "source": [
    "This function finds the EWMA for a covariance matrix \n",
    "\n",
    "$\\Sigma_{s+\\Delta} = \\lambda \\Sigma_s +(1-\\lambda)X_s X_s^T$ "
   ]
  },
  {
   "cell_type": "code",
   "execution_count": 129,
   "metadata": {
    "collapsed": true
   },
   "outputs": [],
   "source": [
    "def EWMA_cov(returns, numb_initial_obs, lam = 0.97):\n",
    "    \"\"\"\n",
    "    This function computes the EWMA covariance matrix for a 2x2 matrix. \n",
    "    We calculate the elements of the matrix individually. \n",
    "    We return a 3 x (numb remaining elements) data frame \n",
    "    \"\"\"\n",
    "    numb_covs = len(returns)- numb_initial_obs\n",
    "    \n",
    "    #Sigma11 = Sigma22 = Sigma12 = pd.Series(np.repeat(0.0,(numb_mus)))\n",
    "    #Sigma11[0] = X1[0:numb_covs].var()\n",
    "    #Sigma22[0] = X2[0:numb_covs].var()\n",
    "    #Sigma12[0] = \n",
    "    Sigmas = {}\n",
    "    Sigmas[0] = returns[0:numb_initial_obs].cov()\n",
    "    \n",
    "    for s_delta in range(1, numb_covs):\n",
    "        s = s_delta -1 \n",
    "        pt1 = (1-lam)*returns.iloc[(numb_initial_obs+s)]*returns.iloc[(numb_initial_obs+s)].transpose()\n",
    "        Sigmas[s_delta] = lam * Sigmas[s] + pt1\n",
    "    return Sigmas"
   ]
  },
  {
   "cell_type": "code",
   "execution_count": 131,
   "metadata": {
    "collapsed": false
   },
   "outputs": [
    {
     "data": {
      "text/html": [
       "<div>\n",
       "<table border=\"1\" class=\"dataframe\">\n",
       "  <thead>\n",
       "    <tr style=\"text-align: right;\">\n",
       "      <th></th>\n",
       "      <th>AAPL</th>\n",
       "      <th>MSFT</th>\n",
       "    </tr>\n",
       "  </thead>\n",
       "  <tbody>\n",
       "    <tr>\n",
       "      <th>AAPL</th>\n",
       "      <td>0.000349</td>\n",
       "      <td>0.000070</td>\n",
       "    </tr>\n",
       "    <tr>\n",
       "      <th>MSFT</th>\n",
       "      <td>0.000070</td>\n",
       "      <td>0.000217</td>\n",
       "    </tr>\n",
       "  </tbody>\n",
       "</table>\n",
       "</div>"
      ],
      "text/plain": [
       "          AAPL      MSFT\n",
       "AAPL  0.000349  0.000070\n",
       "MSFT  0.000070  0.000217"
      ]
     },
     "execution_count": 131,
     "metadata": {},
     "output_type": "execute_result"
    }
   ],
   "source": [
    "returns = pd.DataFrame({'MSFT': data['MSFT_Log_Return'],\n",
    "                  'AAPL':data['AAPL_Log_Return']})\n",
    "EWMA_cov = EWMA_cov(returns, 500)\n",
    "EWMA_cov[0]"
   ]
  },
  {
   "cell_type": "markdown",
   "metadata": {},
   "source": [
    "We will now compute the linearized loss operator knowing \n",
    "- Value of portfolio is 1,000,000\n",
    "- Market cap of Microsoft is 448.77 million\n",
    "- Market cap of Apple is 577.1 million \n",
    "- Linear Loss Operator is: $L_{t+\\Delta} = c_t^T X_{t+\\Delta}$   where $c_t =-V_t(w^1_t,w^2_t)$"
   ]
  },
  {
   "cell_type": "code",
   "execution_count": 199,
   "metadata": {
    "collapsed": false
   },
   "outputs": [],
   "source": [
    "ValPort = 1000000\n",
    "MarketCapMSFT = 448.77\n",
    "MarketCapAAPL = 577.1\n",
    "WeightMSFT = MarketCapMSFT/ (MarketCapMSFT+MarketCapAAPL)\n",
    "WeightAAPL = MarketCapAAPL/(MarketCapMSFT+MarketCapAAPL)\n",
    "LinearLoss = -ValPort * ((WeightAAPL*data[\"AAPL_Log_Return\"])\n",
    "                       +(WeightMSFT*data[\"MSFT_Log_Return\"]))\n",
    "ct = pd.Series([-ValPort*WeightAAPL, -ValPort*WeightMSFT])"
   ]
  },
  {
   "cell_type": "markdown",
   "metadata": {},
   "source": [
    "The Value at Risk of a portfolio characterized by the Linearized Loss operator is\n",
    "\n",
    "$VaR(\\alpha) = c_t^T\\mu_{t+\\Delta} + (c_t^T\\Sigma_{t+\\Delta}\n",
    "   c_t)^(1/2)N^{-1}(\\alpha)$\n",
    "   \n",
    "The K-day VaR is = \n",
    "$ VaR_{\\alpha} (L'_{t+K\\Delta}) \\approx \\sqrt(K)*VaR_{\\alpha} (L'_{t+\\Delta}) $\n",
    "\n",
    "The regulatory charge is \n",
    "\n",
    "$ 3 \\times VaR_{\\alpha} (L'_{t+10\\Delta}) $"
   ]
  },
  {
   "cell_type": "code",
   "execution_count": 204,
   "metadata": {
    "collapsed": false
   },
   "outputs": [
    {
     "data": {
      "text/plain": [
       "-117547156.66840634"
      ]
     },
     "execution_count": 204,
     "metadata": {},
     "output_type": "execute_result"
    }
   ],
   "source": [
    "last_element = len(EWMA) -1 \n",
    "mu1 = mu.iloc[last_element]\n",
    "Sigma1 = EWMA_cov[last_element]\n",
    "\n",
    "k = 20 \n",
    "alpha = 0.05\n",
    "N_alpha = norm.ppf(alpha)\n",
    "\n",
    "VaR = np.dot(mu1,ct)\n",
    "Var2 = np.dot(np.dot(ct,Sigma1),ct.transpose())*0.5*N_alpha\n",
    "VaR + Var2"
   ]
  },
  {
   "cell_type": "code",
   "execution_count": 202,
   "metadata": {
    "collapsed": false
   },
   "outputs": [
    {
     "data": {
      "text/plain": [
       "0   -562546.911402\n",
       "1   -437453.088598\n",
       "dtype: float64"
      ]
     },
     "execution_count": 202,
     "metadata": {},
     "output_type": "execute_result"
    }
   ],
   "source": [
    "ct"
   ]
  },
  {
   "cell_type": "code",
   "execution_count": null,
   "metadata": {
    "collapsed": true
   },
   "outputs": [],
   "source": []
  },
  {
   "cell_type": "code",
   "execution_count": 207,
   "metadata": {
    "collapsed": false
   },
   "outputs": [
    {
     "data": {
      "text/plain": [
       "array([[-0.00294668, -0.00184631],\n",
       "       [-0.00717338, -0.00550071],\n",
       "       [ 0.00346439,  0.0036961 ],\n",
       "       [ 0.01633376,  0.01482244],\n",
       "       [-0.00011411,  0.00060267]])"
      ]
     },
     "execution_count": 207,
     "metadata": {},
     "output_type": "execute_result"
    }
   ],
   "source": [
    "np.random.multivariate_normal(mu1, Sigma1,5)"
   ]
  },
  {
   "cell_type": "raw",
   "metadata": {},
   "source": [
    "https://docs.scipy.org/doc/numpy/reference/generated/numpy.random.multivariate_normal.html"
   ]
  },
  {
   "cell_type": "code",
   "execution_count": null,
   "metadata": {
    "collapsed": true
   },
   "outputs": [],
   "source": []
  },
  {
   "cell_type": "raw",
   "metadata": {},
   "source": [
    "def EWMA_cov(returns, numb_initial_obs, key, lam = 0.97):\n",
    "    \"\"\"\n",
    "    This function computes the EWMA covariance matrix for a 2x2 matrix. \n",
    "    We calculate the elements of the matrix individually. \n",
    "    We return a 3 x (numb remaining elements) data frame \n",
    "    \"\"\"\n",
    "    numb_covs = len(returns)- numb_initial_obs\n",
    "    \n",
    "    #Sigma11 = Sigma22 = Sigma12 = pd.Series(np.repeat(0.0,(numb_mus)))\n",
    "    #Sigma11[0] = X1[0:numb_covs].var()\n",
    "    #Sigma22[0] = X2[0:numb_covs].var()\n",
    "    #Sigma12[0] = \n",
    "    Sigmas = {0,0}\n",
    "    Sigmas[0] = returns[0:numb_initial_obs].cov(), key[numb_initial_obs]\n",
    "    \n",
    "    for s_delta in range(1, numb_covs):\n",
    "        s = s_delta -1 \n",
    "        pt1 = (1-lam)*returns.iloc[(numb_initial_obs+s)]*returns.iloc[(numb_initial_obs+s)].transpose()\n",
    "        Sigmas[s_delta] = lam * Sigmas[s] + pt1 ,key[(numb_initial_obs+s)]\n",
    "    return Sigmas"
   ]
  }
 ],
 "metadata": {
  "kernelspec": {
   "display_name": "Python [Root]",
   "language": "python",
   "name": "Python [Root]"
  },
  "language_info": {
   "codemirror_mode": {
    "name": "ipython",
    "version": 3
   },
   "file_extension": ".py",
   "mimetype": "text/x-python",
   "name": "python",
   "nbconvert_exporter": "python",
   "pygments_lexer": "ipython3",
   "version": "3.5.2"
  }
 },
 "nbformat": 4,
 "nbformat_minor": 0
}
