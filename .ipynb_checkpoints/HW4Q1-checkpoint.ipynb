{
 "cells": [
  {
   "cell_type": "code",
   "execution_count": 1,
   "metadata": {
    "collapsed": true
   },
   "outputs": [],
   "source": [
    "import numpy as np \n",
    "import pandas as pd \n",
    "from scipy import stats\n",
    "import math\n",
    "import pandoc "
   ]
  },
  {
   "cell_type": "code",
   "execution_count": 2,
   "metadata": {
    "collapsed": true
   },
   "outputs": [],
   "source": [
    "mu = 0.168904\n",
    "sigma_t = 0.2066\n",
    "T = 0.376\n",
    "daysToExp = T*250\n",
    "S0 = 56.47\n",
    "K = 55\n",
    "delta = 1/250"
   ]
  },
  {
   "cell_type": "raw",
   "metadata": {},
   "source": [
    "Black Scholes function is from -- \n",
    "https://github.com/jmiedwards/Python---Black-Scholes-Pricing-calculator-/blob/master/Black-Scholes%20Calculator%20Dividend.py"
   ]
  },
  {
   "cell_type": "code",
   "execution_count": 3,
   "metadata": {
    "collapsed": false
   },
   "outputs": [],
   "source": [
    "def black_scholes(s, k , t, v, rf = 0.0084):\n",
    "        \"\"\" Price a call using the Black-Scholes model.\n",
    "        s: initial stock price (56)\n",
    "        k: strike price(55)\n",
    "        t: expiration time ( annual- decimal)\n",
    "        v: volatility ( in decimal30%-0.3)\n",
    "        rf: risk-free rate (0.0084)\n",
    "        \"\"\"\n",
    "\n",
    "        d1 = (math.log(s/k)+(rf+0.5*math.pow(v,2))*t)/(v*math.sqrt(t))\n",
    "        d2 = d1 - v*math.sqrt(t)\n",
    "\n",
    "        optprice = (s*math.exp(-t)*\n",
    "                    stats.norm.cdf(d1)) - (k*math.exp(-rf*t)*stats.norm.cdf(d2))\n",
    "        return optprice\n"
   ]
  },
  {
   "cell_type": "markdown",
   "metadata": {},
   "source": [
    "The delta of the black "
   ]
  },
  {
   "cell_type": "code",
   "execution_count": 4,
   "metadata": {
    "collapsed": true
   },
   "outputs": [],
   "source": [
    "def BS_delta (s, k, t, v, rf):\n",
    "    d1 = (math.log(s/k)+(rf+0.5*math.pow(v,2))*t)/(v*math.sqrt(t))\n",
    "    delta = stats.norm.cdf(d1)\n",
    "    return delta "
   ]
  },
  {
   "cell_type": "code",
   "execution_count": 5,
   "metadata": {
    "collapsed": false
   },
   "outputs": [],
   "source": [
    "ht = BS_delta(S0, K, T, sigma_t, 0 )\n",
    "CallPrice_t = black_scholes(S0, K, T, sigma_t, 0 )\n",
    "Vt = ht*S0 - CallPrice_t"
   ]
  },
  {
   "cell_type": "code",
   "execution_count": 6,
   "metadata": {
    "collapsed": false
   },
   "outputs": [],
   "source": [
    "Xt_5Delta = pd.Series([-0.6, -0.4, -0.2, 0.2, 0.4, 0.6])\n",
    "St_5Delta = S0*np.exp(Xt_5Delta)\n",
    "sigma_5Delta = sigma_t*pd.Series([0.5, 0.75, 1.25, 1.5, 1.75, 2])\n",
    "Loss_Table = pd.DataFrame({'Loss' : 0.0,\n",
    "                           'Return' : Xt_5Delta,\n",
    "                           'Volatility' : sigma_5Delta}, \n",
    "                          index = range(0,len(Xt_5Delta)))"
   ]
  },
  {
   "cell_type": "code",
   "execution_count": 7,
   "metadata": {
    "collapsed": false
   },
   "outputs": [
    {
     "ename": "SyntaxError",
     "evalue": "invalid syntax (<ipython-input-7-50fe989ce175>, line 4)",
     "output_type": "error",
     "traceback": [
      "\u001b[1;36m  File \u001b[1;32m\"<ipython-input-7-50fe989ce175>\"\u001b[1;36m, line \u001b[1;32m4\u001b[0m\n\u001b[1;33m    CallPrice_5Delta =\u001b[0m\n\u001b[1;37m                       ^\u001b[0m\n\u001b[1;31mSyntaxError\u001b[0m\u001b[1;31m:\u001b[0m invalid syntax\n"
     ]
    }
   ],
   "source": [
    "dataframe_index = 0\n",
    "for stock_index in range(0,len(St_5Delta)):\n",
    "    for sigma_index in range(0,len(sigma_5Delta)):\n",
    "        CallPrice_5Delta = black_scholes(St_5Delta[stock_index]\n",
    "                                         , K, T, sigma_5Delta[sigma_index], 0 )\n",
    "        Vt_5Delta = ht*St_5Delta[stock_index] - CallPrice_5Delta\n",
    "        Lt_5Delta = -(Vt_5Delta - Vt)\n",
    "        Loss_Table.loc[dataframe_index] = [Lt_5Delta, Xt_5Delta[stock_index], \n",
    "                                           sigma_5Delta[sigma_index]]\n",
    "        dataframe_index = dataframe_index+1\n",
    "\n"
   ]
  },
  {
   "cell_type": "code",
   "execution_count": null,
   "metadata": {
    "collapsed": false
   },
   "outputs": [],
   "source": [
    "Loss_Table.sort_values(by= 'Loss', ascending = False).head()"
   ]
  },
  {
   "cell_type": "markdown",
   "metadata": {},
   "source": [
    "Finding the worst case sceinario risk measure \n",
    "\n",
    "$\\rho (L_{t+5\\Delta}) = max \\{ l_n | n =  1,..., 36\\}$"
   ]
  },
  {
   "cell_type": "code",
   "execution_count": null,
   "metadata": {
    "collapsed": false
   },
   "outputs": [],
   "source": [
    "Loss_Table.loc[Loss_Table['Loss'].idxmax()]"
   ]
  },
  {
   "cell_type": "code",
   "execution_count": null,
   "metadata": {
    "collapsed": false
   },
   "outputs": [],
   "source": [
    "def return_weight_label (row):\n",
    "    if np.absolute(row['Return']) == 0.6: \n",
    "        return 0.5\n",
    "    if np.absolute(row['Return']) == 0.4:\n",
    "        return 0.75\n",
    "    if np.absolute(row['Return']) == 0.2: \n",
    "        return 1"
   ]
  },
  {
   "cell_type": "code",
   "execution_count": null,
   "metadata": {
    "collapsed": true
   },
   "outputs": [],
   "source": [
    "def vol_weight_label (row, sigma_t):\n",
    "    if np.absolute(row['Volatility']) == 0.5*sigma_t: \n",
    "        return 0.5\n",
    "    if np.absolute(row['Volatility']) == 0.75*sigma_t:\n",
    "        return 0.75\n",
    "    if np.absolute(row['Volatility']) == 1.25*sigma_t: \n",
    "        return 1\n",
    "    if np.absolute(row['Volatility']) == 2*sigma_t: \n",
    "        return 0.5\n",
    "    if np.absolute(row['Volatility']) == 1.75*sigma_t:\n",
    "        return 0.75\n",
    "    if np.absolute(row['Volatility']) == 1.5*sigma_t: \n",
    "        return 1"
   ]
  },
  {
   "cell_type": "code",
   "execution_count": null,
   "metadata": {
    "collapsed": false
   },
   "outputs": [],
   "source": [
    "Loss_Table['ReturnWeights'] = Loss_Table.apply(lambda row: \n",
    "                                               return_weight_label(row), axis=1)\n",
    "Loss_Table['VolWeights'] = Loss_Table.apply(lambda row: \n",
    "                                            vol_weight_label(row, sigma_t), axis=1)\n",
    "Loss_Table['TotalWeight']=Loss_Table['ReturnWeights']*Loss_Table['VolWeights']\n",
    "Loss_Table['TWeight*Loss']=Loss_Table['TotalWeight']*Loss_Table['Loss']"
   ]
  },
  {
   "cell_type": "code",
   "execution_count": null,
   "metadata": {
    "collapsed": false
   },
   "outputs": [],
   "source": [
    "Loss_Table.head()"
   ]
  },
  {
   "cell_type": "code",
   "execution_count": null,
   "metadata": {
    "collapsed": false
   },
   "outputs": [],
   "source": [
    "Loss_Table.loc[Loss_Table['TWeight*Loss'].idxmax()]"
   ]
  }
 ],
 "metadata": {
  "anaconda-cloud": {},
  "kernelspec": {
   "display_name": "Python [Root]",
   "language": "python",
   "name": "Python [Root]"
  },
  "language_info": {
   "codemirror_mode": {
    "name": "ipython",
    "version": 3
   },
   "file_extension": ".py",
   "mimetype": "text/x-python",
   "name": "python",
   "nbconvert_exporter": "python",
   "pygments_lexer": "ipython3",
   "version": "3.5.2"
  }
 },
 "nbformat": 4,
 "nbformat_minor": 0
}
