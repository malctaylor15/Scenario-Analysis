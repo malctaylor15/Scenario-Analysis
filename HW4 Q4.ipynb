{
 "cells": [
  {
   "cell_type": "code",
   "execution_count": 29,
   "metadata": {
    "collapsed": true
   },
   "outputs": [],
   "source": [
    "import numpy as np \n",
    "import pandas as pd\n",
    "from scipy.stats import norm\n",
    "import matplotlib.pyplot as plt\n",
    "%matplotlib inline"
   ]
  },
  {
   "cell_type": "code",
   "execution_count": 11,
   "metadata": {
    "collapsed": false
   },
   "outputs": [
    {
     "data": {
      "text/html": [
       "<div>\n",
       "<table border=\"1\" class=\"dataframe\">\n",
       "  <thead>\n",
       "    <tr style=\"text-align: right;\">\n",
       "      <th></th>\n",
       "      <th>Date</th>\n",
       "      <th>Adj Close</th>\n",
       "      <th>Log Price</th>\n",
       "      <th>Log Return</th>\n",
       "    </tr>\n",
       "  </thead>\n",
       "  <tbody>\n",
       "    <tr>\n",
       "      <th>0</th>\n",
       "      <td>6/10/1960</td>\n",
       "      <td>57.970001</td>\n",
       "      <td>1.763203</td>\n",
       "      <td>-0.000225</td>\n",
       "    </tr>\n",
       "    <tr>\n",
       "      <th>1</th>\n",
       "      <td>6/13/1960</td>\n",
       "      <td>57.990002</td>\n",
       "      <td>1.763353</td>\n",
       "      <td>0.000150</td>\n",
       "    </tr>\n",
       "    <tr>\n",
       "      <th>2</th>\n",
       "      <td>6/14/1960</td>\n",
       "      <td>57.910000</td>\n",
       "      <td>1.762754</td>\n",
       "      <td>-0.000600</td>\n",
       "    </tr>\n",
       "    <tr>\n",
       "      <th>3</th>\n",
       "      <td>6/15/1960</td>\n",
       "      <td>57.570000</td>\n",
       "      <td>1.760196</td>\n",
       "      <td>-0.002557</td>\n",
       "    </tr>\n",
       "    <tr>\n",
       "      <th>4</th>\n",
       "      <td>6/16/1960</td>\n",
       "      <td>57.500000</td>\n",
       "      <td>1.759668</td>\n",
       "      <td>-0.000528</td>\n",
       "    </tr>\n",
       "  </tbody>\n",
       "</table>\n",
       "</div>"
      ],
      "text/plain": [
       "        Date  Adj Close  Log Price  Log Return\n",
       "0  6/10/1960  57.970001   1.763203   -0.000225\n",
       "1  6/13/1960  57.990002   1.763353    0.000150\n",
       "2  6/14/1960  57.910000   1.762754   -0.000600\n",
       "3  6/15/1960  57.570000   1.760196   -0.002557\n",
       "4  6/16/1960  57.500000   1.759668   -0.000528"
      ]
     },
     "execution_count": 11,
     "metadata": {},
     "output_type": "execute_result"
    }
   ],
   "source": [
    "data = pd.read_csv(\"SP_500_Log_Returns_19600610_19871016.csv\")\n",
    "data.head()"
   ]
  },
  {
   "cell_type": "code",
   "execution_count": 12,
   "metadata": {
    "collapsed": false
   },
   "outputs": [
    {
     "data": {
      "text/html": [
       "<div>\n",
       "<table border=\"1\" class=\"dataframe\">\n",
       "  <thead>\n",
       "    <tr style=\"text-align: right;\">\n",
       "      <th></th>\n",
       "      <th>Adj Close</th>\n",
       "      <th>Log Price</th>\n",
       "      <th>Log Return</th>\n",
       "    </tr>\n",
       "  </thead>\n",
       "  <tbody>\n",
       "    <tr>\n",
       "      <th>count</th>\n",
       "      <td>6875.000000</td>\n",
       "      <td>6875.000000</td>\n",
       "      <td>6875.000000</td>\n",
       "    </tr>\n",
       "    <tr>\n",
       "      <th>mean</th>\n",
       "      <td>112.950846</td>\n",
       "      <td>2.020570</td>\n",
       "      <td>0.000100</td>\n",
       "    </tr>\n",
       "    <tr>\n",
       "      <th>std</th>\n",
       "      <td>50.516773</td>\n",
       "      <td>0.157946</td>\n",
       "      <td>0.003522</td>\n",
       "    </tr>\n",
       "    <tr>\n",
       "      <th>min</th>\n",
       "      <td>52.200001</td>\n",
       "      <td>1.717671</td>\n",
       "      <td>-0.030005</td>\n",
       "    </tr>\n",
       "    <tr>\n",
       "      <th>25%</th>\n",
       "      <td>85.865002</td>\n",
       "      <td>1.933816</td>\n",
       "      <td>-0.001755</td>\n",
       "    </tr>\n",
       "    <tr>\n",
       "      <th>50%</th>\n",
       "      <td>98.860001</td>\n",
       "      <td>1.995021</td>\n",
       "      <td>0.000135</td>\n",
       "    </tr>\n",
       "    <tr>\n",
       "      <th>75%</th>\n",
       "      <td>117.324997</td>\n",
       "      <td>2.069391</td>\n",
       "      <td>0.001962</td>\n",
       "    </tr>\n",
       "    <tr>\n",
       "      <th>max</th>\n",
       "      <td>336.769989</td>\n",
       "      <td>2.527333</td>\n",
       "      <td>0.021282</td>\n",
       "    </tr>\n",
       "  </tbody>\n",
       "</table>\n",
       "</div>"
      ],
      "text/plain": [
       "         Adj Close    Log Price   Log Return\n",
       "count  6875.000000  6875.000000  6875.000000\n",
       "mean    112.950846     2.020570     0.000100\n",
       "std      50.516773     0.157946     0.003522\n",
       "min      52.200001     1.717671    -0.030005\n",
       "25%      85.865002     1.933816    -0.001755\n",
       "50%      98.860001     1.995021     0.000135\n",
       "75%     117.324997     2.069391     0.001962\n",
       "max     336.769989     2.527333     0.021282"
      ]
     },
     "execution_count": 12,
     "metadata": {},
     "output_type": "execute_result"
    }
   ],
   "source": [
    "data.describe()"
   ]
  },
  {
   "cell_type": "code",
   "execution_count": 13,
   "metadata": {
    "collapsed": false
   },
   "outputs": [
    {
     "data": {
      "text/plain": [
       "<matplotlib.axes._subplots.AxesSubplot at 0x14913991ef0>"
      ]
     },
     "execution_count": 13,
     "metadata": {},
     "output_type": "execute_result"
    },
    {
     "data": {
      "image/png": "[encoded data removed]",
      "text/plain": [
       "<matplotlib.figure.Figure at 0x1491399b400>"
      ]
     },
     "metadata": {},
     "output_type": "display_data"
    }
   ],
   "source": [
    "data[\"Log Return\"].plot()"
   ]
  },
  {
   "cell_type": "code",
   "execution_count": 15,
   "metadata": {
    "collapsed": false
   },
   "outputs": [
    {
     "data": {
      "text/plain": [
       "<matplotlib.axes._subplots.AxesSubplot at 0x149139ef978>"
      ]
     },
     "execution_count": 15,
     "metadata": {},
     "output_type": "execute_result"
    },
    {
     "data": {
      "image/png": "[encoded data removed]",
      "text/plain": [
       "<matplotlib.figure.Figure at 0x149139e45f8>"
      ]
     },
     "metadata": {},
     "output_type": "display_data"
    }
   ],
   "source": [
    "data[\"Log Return\"].cumsum().plot()"
   ]
  },
  {
   "cell_type": "code",
   "execution_count": 16,
   "metadata": {
    "collapsed": true
   },
   "outputs": [],
   "source": [
    "def ValueAtRisk (data_column, alpha = 0.95):\n",
    "    \"This function computes the value at risk for a dataframe\"\n",
    "    \"It should take in a Series of data \"\n",
    "    sorted_df = data_column.sort_values(ascending = True)\n",
    "    VaR = sorted_df.quantile(q= alpha, interpolation = 'higher')\n",
    "    return VaR"
   ]
  },
  {
   "cell_type": "code",
   "execution_count": 138,
   "metadata": {
    "collapsed": false
   },
   "outputs": [
    {
     "data": {
      "text/plain": [
       "0.0057427569999999994"
      ]
     },
     "execution_count": 138,
     "metadata": {},
     "output_type": "execute_result"
    }
   ],
   "source": [
    "Var_Reg = ValueAtRisk(data[\"Log Return\"])\n",
    "Var_Reg"
   ]
  },
  {
   "cell_type": "code",
   "execution_count": 22,
   "metadata": {
    "collapsed": true
   },
   "outputs": [],
   "source": [
    "def EWMA_mu(X, numb_initial_obs,lam = 0.97):\n",
    "    \"\"\"\n",
    "    This function takes in a Series of returns - X \n",
    "    and generates the Exponentially Weighted Moving Average of the series. \n",
    "    It uses the initial M observations as the larger weighted term (multiplied by mu)\n",
    "    \"\"\"\n",
    "    numb_mus = len(X)- numb_initial_obs\n",
    "    mu = pd.Series(np.repeat(0.0,(numb_mus)))\n",
    "    mu[0] = X[0:numb_initial_obs].mean()\n",
    "    for s_delta in range(1,numb_mus):\n",
    "        s = s_delta - 1 \n",
    "        mu[s_delta] = lam * mu[s] + (1-lam)*X[(numb_initial_obs+s)]\n",
    "        \n",
    "    return mu"
   ]
  },
  {
   "cell_type": "code",
   "execution_count": 41,
   "metadata": {
    "collapsed": false
   },
   "outputs": [],
   "source": [
    "def EWMA_sig(X, numb_initial_obs,lam = 0.97):\n",
    "    \"\"\"\n",
    "    This function takes in a Series of returns - X \n",
    "    and generates the Exponentially Weighted Moving Average of the series. \n",
    "    It uses the initial M observations as the larger weighted term (multiplied by mu)\n",
    "    \"\"\"\n",
    "    numb_sigs = len(X)- numb_initial_obs\n",
    "    sig = pd.Series(np.repeat(0.0,(numb_sigs)))\n",
    "    mu[0] = X[0:numb_initial_obs].mean()\n",
    "    for s_delta in range(1,numb_sigs):\n",
    "        s = s_delta - 1 \n",
    "        new_sig = np.power((sig[s]-X[(numb_initial_obs+s)]) , 2)\n",
    "        sig[s_delta] = lam * sig[s] + (1-lam)*new_sig  \n",
    "    return sig"
   ]
  },
  {
   "cell_type": "code",
   "execution_count": 42,
   "metadata": {
    "collapsed": false
   },
   "outputs": [],
   "source": [
    "mu = EWMA_mu(data[\"Log Return\"],500)\n",
    "sig = EWMA_sig(data[\"Log Return\"],500)"
   ]
  },
  {
   "cell_type": "code",
   "execution_count": 45,
   "metadata": {
    "collapsed": false
   },
   "outputs": [
    {
     "data": {
      "text/plain": [
       "0.008010287550597581"
      ]
     },
     "execution_count": 45,
     "metadata": {},
     "output_type": "execute_result"
    }
   ],
   "source": [
    "last_element = len(mu)-1\n",
    "alpha = 0.95\n",
    "\n",
    "VaR = mu[(last_element)] + np.sqrt(sig[last_element])*norm.ppf(alpha)\n",
    "VaR"
   ]
  },
  {
   "cell_type": "code",
   "execution_count": 123,
   "metadata": {
    "collapsed": false
   },
   "outputs": [],
   "source": [
    "numb_days = 125\n",
    "numb_block = 55\n",
    "max_block_value = pd.Series(np.repeat(0.0,(numb_block-1)))\n",
    "for block in range((numb_block-1)):\n",
    "    start_index = block*numb_days\n",
    "    end_index = (block+1)*numb_days\n",
    "    max_block_value[block] = data[\"Log Return\"][start_index:end_index].max()"
   ]
  },
  {
   "cell_type": "code",
   "execution_count": 124,
   "metadata": {
    "collapsed": false
   },
   "outputs": [
    {
     "name": "stdout",
     "output_type": "stream",
     "text": [
      "count    54.000000\n",
      "mean      0.010360\n",
      "std       0.004356\n",
      "min       0.003073\n",
      "25%       0.007127\n",
      "50%       0.010077\n",
      "75%       0.012514\n",
      "max       0.021282\n",
      "dtype: float64\n"
     ]
    },
    {
     "data": {
      "text/plain": [
       "<matplotlib.lines.Line2D at 0x14916d1d588>"
      ]
     },
     "execution_count": 124,
     "metadata": {},
     "output_type": "execute_result"
    },
    {
     "data": {
      "image/png": "[encoded data removed]",
      "text/plain": [
       "<matplotlib.figure.Figure at 0x14916dce240>"
      ]
     },
     "metadata": {},
     "output_type": "display_data"
    }
   ],
   "source": [
    "print(max_block_value.describe())\n",
    "max_block_value.plot()\n",
    "plt.axhline(y = max_block_value.mean(), color = \"r\")"
   ]
  },
  {
   "cell_type": "code",
   "execution_count": 125,
   "metadata": {
    "collapsed": false
   },
   "outputs": [
    {
     "data": {
      "text/plain": [
       "(0.069238526271759082, 0.0084733039294743288, 0.0036404276930519491)"
      ]
     },
     "execution_count": 125,
     "metadata": {},
     "output_type": "execute_result"
    }
   ],
   "source": [
    "from scipy.stats import genextreme\n",
    "GEV_params = genextreme.fit(max_block_value )\n",
    "GEV_params"
   ]
  },
  {
   "cell_type": "code",
   "execution_count": 153,
   "metadata": {
    "collapsed": false
   },
   "outputs": [
    {
     "data": {
      "text/plain": [
       "(array([   0.72419081,    1.81047702,    3.7416525 ,   11.2249575 ,\n",
       "          20.15664411,   33.91626944,   52.98662734,   65.05647411,\n",
       "          87.74778605,   94.62759871,  104.16277766,  100.42112516,\n",
       "          97.64506041,   95.23109105,   77.97121016,   67.22904653,\n",
       "          53.10732581,   47.07240242,   37.29582653,   33.07138016,\n",
       "          28.84693379,   20.27734258,   18.10477016,   14.6045146 ,\n",
       "          10.50076669,    6.75911419,    5.67282798,    4.70724024,\n",
       "           2.77606476,    2.89676323,    2.05187395,    2.17257242,\n",
       "           0.72419081,    0.48279387,    0.48279387,    0.3620954 ,\n",
       "           0.24139694,    0.        ,    0.        ,    0.12069847]),\n",
       " array([-0.00032911,  0.0004994 ,  0.00132791,  0.00215642,  0.00298493,\n",
       "         0.00381344,  0.00464196,  0.00547047,  0.00629898,  0.00712749,\n",
       "         0.007956  ,  0.00878451,  0.00961302,  0.01044153,  0.01127004,\n",
       "         0.01209855,  0.01292706,  0.01375558,  0.01458409,  0.0154126 ,\n",
       "         0.01624111,  0.01706962,  0.01789813,  0.01872664,  0.01955515,\n",
       "         0.02038366,  0.02121217,  0.02204068,  0.0228692 ,  0.02369771,\n",
       "         0.02452622,  0.02535473,  0.02618324,  0.02701175,  0.02784026,\n",
       "         0.02866877,  0.02949728,  0.03032579,  0.0311543 ,  0.03198282,\n",
       "         0.03281133]),\n",
       " <a list of 40 Patch objects>)"
      ]
     },
     "execution_count": 153,
     "metadata": {},
     "output_type": "execute_result"
    },
    {
     "data": {
      "image/png": "[encoded data removed]",
      "text/plain": [
       "<matplotlib.figure.Figure at 0x14917074668>"
      ]
     },
     "metadata": {},
     "output_type": "display_data"
    }
   ],
   "source": [
    "rv = genextreme.rvs(c = GEV_params[0], loc = GEV_params[1],  scale = GEV_params[2], size = 10000)\n",
    "fig, ax = plt.subplots(1,1)\n",
    "ax.hist(rv, bins=40 ,normed= True, alpha = 0.3)"
   ]
  },
  {
   "cell_type": "code",
   "execution_count": 155,
   "metadata": {
    "collapsed": false
   },
   "outputs": [
    {
     "data": {
      "text/plain": [
       "A    0.018434\n",
       "dtype: float64"
      ]
     },
     "execution_count": 155,
     "metadata": {},
     "output_type": "execute_result"
    }
   ],
   "source": [
    "rv1 = pd.DataFrame({'A':rv})\n",
    "rv1.quantile(0.95, interpolation='higher')"
   ]
  },
  {
   "cell_type": "markdown",
   "metadata": {},
   "source": [
    "We can also solve for the VaR analytically - page 23 of the notes \n",
    "\n",
    "$VaR_{\\alpha} = \\mu - \\sigma / \\xi (1-(-n log(\\alpha))^{-\\xi}) ; \\xi >0$ \n",
    "\n",
    "$VaR_{\\alpha} = \\mu - \\sigma / \\xi (1-(-n log(\\alpha))); \\xi = 0$ \n"
   ]
  },
  {
   "cell_type": "code",
   "execution_count": 135,
   "metadata": {
    "collapsed": false
   },
   "outputs": [
    {
     "data": {
      "text/plain": [
       "0.069238526271759082"
      ]
     },
     "execution_count": 135,
     "metadata": {},
     "output_type": "execute_result"
    }
   ],
   "source": [
    "GEV_params[0]"
   ]
  },
  {
   "cell_type": "code",
   "execution_count": 136,
   "metadata": {
    "collapsed": false
   },
   "outputs": [
    {
     "data": {
      "text/plain": [
       "0.0021260107628362909"
      ]
     },
     "execution_count": 136,
     "metadata": {},
     "output_type": "execute_result"
    }
   ],
   "source": [
    "GEV_params[1] - (GEV_params[2]/GEV_params[0])*(1- (np.power(-numb_days*np.log(0.95),-GEV_params[0] )))"
   ]
  },
  {
   "cell_type": "code",
   "execution_count": 137,
   "metadata": {
    "collapsed": false
   },
   "outputs": [
    {
     "data": {
      "text/plain": [
       "0.028174067405960537"
      ]
     },
     "execution_count": 137,
     "metadata": {},
     "output_type": "execute_result"
    }
   ],
   "source": [
    "GEV_params[1] - (GEV_params[2])*(1- (-numb_days*np.log(0.95)))"
   ]
  },
  {
   "cell_type": "markdown",
   "metadata": {},
   "source": [
    "Move on to Generalized Pareto "
   ]
  },
  {
   "cell_type": "code",
   "execution_count": 139,
   "metadata": {
    "collapsed": true
   },
   "outputs": [],
   "source": [
    "from scipy.stats import genpareto"
   ]
  },
  {
   "cell_type": "code",
   "execution_count": 152,
   "metadata": {
    "collapsed": false
   },
   "outputs": [
    {
     "data": {
      "text/plain": [
       "(0.48117298744343728, 0.0057433938542088923, 0.0018140210304384012)"
      ]
     },
     "execution_count": 152,
     "metadata": {},
     "output_type": "execute_result"
    }
   ],
   "source": [
    "GP_data1 = data[data[\"Log Return\"]>Var_Reg][\"Log Return\"]\n",
    "GP_params = genpareto.fit(GP_data1)\n",
    "GP_params"
   ]
  },
  {
   "cell_type": "markdown",
   "metadata": {},
   "source": [
    "There is an analytical result for the VaR for the GP distribution as well \n",
    "from page 35 of the notes... \n",
    "\n",
    "\n",
    "$VaR_{\\alpha} = u + \\beta / \\xi * (( (1-F(u))/(1-\\alpha))^{\\xi} -1)$\n",
    "\n",
    "$u = Var_{0.95}$\n",
    "\n",
    "$F(u) = ?$ - distribution of X = pareto?"
   ]
  },
  {
   "cell_type": "code",
   "execution_count": 156,
   "metadata": {
    "collapsed": false,
    "scrolled": true
   },
   "outputs": [
    {
     "data": {
      "text/plain": [
       "A    11717.103603\n",
       "dtype: float64"
      ]
     },
     "execution_count": 156,
     "metadata": {},
     "output_type": "execute_result"
    },
    {
     "data": {
      "image/png": "[encoded data removed]",
      "text/plain": [
       "<matplotlib.figure.Figure at 0x149171284a8>"
      ]
     },
     "metadata": {},
     "output_type": "display_data"
    }
   ],
   "source": [
    "Scot_test = genpareto.rvs(c=0.2622, loc = 0, scale =  2549, size = 10000)\n",
    "fig, ax = plt.subplots(1,1)\n",
    "ax.hist(Scot_test, bins=40 ,normed= True, alpha = 0.3)\n",
    "\n",
    "Scot_test_df = pd.DataFrame({'A':Scot_test})\n",
    "Scot_test_df.quantile(0.95, interpolation='higher')"
   ]
  }
 ],
 "metadata": {
  "anaconda-cloud": {},
  "kernelspec": {
   "display_name": "Python [Root]",
   "language": "python",
   "name": "Python [Root]"
  },
  "language_info": {
   "codemirror_mode": {
    "name": "ipython",
    "version": 3
   },
   "file_extension": ".py",
   "mimetype": "text/x-python",
   "name": "python",
   "nbconvert_exporter": "python",
   "pygments_lexer": "ipython3",
   "version": "3.5.2"
  }
 },
 "nbformat": 4,
 "nbformat_minor": 0
}
